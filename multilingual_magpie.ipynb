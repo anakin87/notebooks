{
  "cells": [
    {
      "cell_type": "markdown",
      "metadata": {
        "id": "PtZj9bcqoUIn"
      },
      "source": [
        "# 🇮🇹🇯🇵🇧🇷 Generating multilingual instruction datasets with Magpie 🐦‍⬛\n",
        "\n",
        "<a target=\"_blank\" href=\"https://colab.research.google.com/github/anakin87/notebooks/blob/main/multilingual_magpie.ipynb\">\n",
        "  <img src=\"https://colab.research.google.com/assets/colab-badge.svg\" alt=\"Open In Colab\" width=\"200\"/>\n",
        "</a>\n",
        "\n",
        "<br/>\n",
        "<img src=\"https://github.com/anakin87/notebooks/blob/main/assets/multilingual_magpie.jpeg?raw=true\" width=\"500\"/>\n",
        "\n",
        "In this notebook, I introduce the Magpie technique for generating synthetic instruction datasets.\n",
        "\n",
        "Using Hugging Face Serverless Inference API, we will see how it works at a low level.\n",
        "\n",
        "Then, I will explore ways to use it for languages other than English.\n",
        "\n"
      ]
    },
    {
      "cell_type": "markdown",
      "metadata": {
        "colab_type": "toc",
        "id": "FGqU37vHoeCP"
      },
      "source": [
        ">[🇮🇹🇯🇵🇧🇷 Generating multilingual instruction datasets with Magpie 🐦‍⬛](#scrollTo=PtZj9bcqoUIn)\n",
        "\n",
        ">>[What is Magpie?](#scrollTo=V8cVgyOYoUIo)\n",
        "\n",
        ">>[Classic Magpie](#scrollTo=bjd36yeDoUIo)\n",
        "\n",
        ">>[Multilingual Magpie: first attempts](#scrollTo=XiJKWq2toUIq)\n",
        "\n",
        ">>[🐦‍⬛ Multilingual Magpie: use system message 🦙](#scrollTo=ICc4pwD0oUIr)\n",
        "\n",
        ">>[Conclusion](#scrollTo=O6geVSF6V4-r)\n",
        "\n",
        ">>>[Recommendations](#scrollTo=O6geVSF6V4-r)\n",
        "\n",
        ">>[References](#scrollTo=vq0VfnIdV4-r)\n",
        "\n"
      ]
    },
    {
      "cell_type": "markdown",
      "metadata": {
        "id": "V8cVgyOYoUIo"
      },
      "source": [
        "## What is Magpie?\n",
        "\n",
        "<img src=\"https://arxiv.org/html/2406.08464v2/x3.png\" width=\"80%\"/>\n",
        "\n",
        "[Magpie](https://arxiv.org/abs/2406.08464) is a recent technique designed to easily generate synthetic instruction datasets for fine-tuning Language Models.\n",
        "\n",
        "It is based on the idea that by prompting an instruction-tuned model with a pre-query template, we get a user query/instruction, due to the auto-regressive nature of the model.\n",
        "\n",
        "Example:\n",
        "<pre>model: Llama-3-8B-Instruct\n",
        "pre-query template: \"<|begin_of_text|><|start_header_id|>user<|end_header_id|>\"\n",
        "generated user instruction: \"What are some of the responsibilities of a commercial pilot?\"</pre>\n",
        "\n",
        "This instruction can then be fed back into the same model, to get the assistant response.\n",
        "\n",
        "By repeating this process, it's possible to generate large synthetic datasets with relatively little effort.\n",
        "\n",
        "The authors demonstrate that using these (filtered) datasets for Supervised Fine Tuning (SFT) can yield strong performance.\n",
        "The resulting models are even competitive with original instruction-tuned models, which are trained on many more data and with SFT + Preference Optimization.\n",
        "\n",
        "To quickly see Magpie in action, you can use this [🤗 Hugging Face Space](https://huggingface.co/spaces/davanstrien/magpie) by Daniel van Strien."
      ]
    },
    {
      "cell_type": "markdown",
      "metadata": {
        "id": "bjd36yeDoUIo"
      },
      "source": [
        "## Classic Magpie\n",
        "\n",
        "To easily experiment with Magpie, we use the [Hugging Face Serverless Inference API](https://huggingface.co/docs/api-inference/en/index).\n",
        "It's a quick way to experiment with popular models via API, with generous [rate limits](https://huggingface.co/docs/api-inference/en/rate-limits) for (free) registered users."
      ]
    },
    {
      "cell_type": "code",
      "execution_count": null,
      "metadata": {
        "id": "c1Qx8kfXoUIp"
      },
      "outputs": [],
      "source": [
        "! pip install -U huggingface_hub"
      ]
    },
    {
      "cell_type": "code",
      "execution_count": null,
      "metadata": {
        "id": "lseynCwpoUIp"
      },
      "outputs": [],
      "source": [
        "import os\n",
        "os.environ['HF_TOKEN']=\"YOUR_HUGGINGFACE_TOKEN\""
      ]
    },
    {
      "cell_type": "code",
      "execution_count": null,
      "metadata": {
        "id": "qfj29jFnoUIp"
      },
      "outputs": [],
      "source": [
        "from huggingface_hub import InferenceClient"
      ]
    },
    {
      "cell_type": "markdown",
      "metadata": {
        "id": "ifbuR50zoUIp"
      },
      "source": [
        "We initialize the HF Inference API client.\n",
        "\n",
        "It's important to disable caching when using Magpie; otherwise we will always get the same response/instruction."
      ]
    },
    {
      "cell_type": "code",
      "execution_count": null,
      "metadata": {
        "id": "76SPnMKyoUIp"
      },
      "outputs": [],
      "source": [
        "client = InferenceClient(\"meta-llama/Meta-Llama-3-8B-Instruct\", headers={\"x-use-cache\": \"false\"})"
      ]
    },
    {
      "cell_type": "markdown",
      "metadata": {
        "id": "1a4e0E9uoUIp"
      },
      "source": [
        "We define a function to generate the user instruction, by passing the pre-query template to the model.\n",
        "\n",
        "Let's clarify some details.\n",
        "- A `system_message` can be added to guide the generation toward a specific topic.\n",
        "- `template_postfix` allows us to dynamically change the template (we will use it later).\n",
        "- `kwargs` can be used to pass sampling parameters like `do_sample`, `temperature`, `max_new_tokens`.\n",
        "- `stop=[\"\\n\"]` ensures the generation stops at the first newline, as sometimes the model might continue with a response immediately after the instruction (as done in the [Magpie repository](https://github.com/magpie-align/magpie/blob/main/exp/gen_ins.py)).\n",
        "\n",
        "The function returns both the generation prompt and the generated instruction."
      ]
    },
    {
      "cell_type": "code",
      "execution_count": null,
      "metadata": {
        "id": "7-6UNS5voUIp"
      },
      "outputs": [],
      "source": [
        "def generate_instruction(system_message=None, template_postfix=\"\", **kwargs):\n",
        "    max_new_tokens=kwargs.get(\"max_new_tokens\", 500)\n",
        "    do_sample=kwargs.get(\"do_sample\", True)\n",
        "    temperature=kwargs.get(\"temperature\", 1)\n",
        "\n",
        "    prompt = \"<|begin_of_text|>\"\n",
        "    if system_message:\n",
        "        prompt+=f\"<|start_header_id|>system<|end_header_id|>{system_message}<|eot_id|>\"\n",
        "\n",
        "    prompt+=f\"<|start_header_id|>user<|end_header_id|>{template_postfix}\\n\\n\"\n",
        "    instruction=client.text_generation(prompt, max_new_tokens=max_new_tokens,  do_sample=do_sample, temperature=temperature, stop=[\"\\n\"])\n",
        "\n",
        "    return prompt, instruction"
      ]
    },
    {
      "cell_type": "markdown",
      "metadata": {
        "id": "-79IeqeBoUIp"
      },
      "source": [
        "Now let's create a simple function to generate a response, given the prompt (which includes the previously generated instruction)."
      ]
    },
    {
      "cell_type": "code",
      "execution_count": null,
      "metadata": {
        "id": "e3nBxY-PoUIq"
      },
      "outputs": [],
      "source": [
        "def generate_response(prompt, **kwargs):\n",
        "    max_new_tokens=kwargs.get(\"max_new_tokens\", 500)\n",
        "    do_sample=kwargs.get(\"do_sample\", True)\n",
        "    temperature=kwargs.get(\"temperature\", 1)\n",
        "\n",
        "    prompt=f\"{prompt}<|eot_id|><|start_header_id|>assistant<|end_header_id|>\\n\\n\"\n",
        "    return client.text_generation(prompt, max_new_tokens=max_new_tokens,  do_sample=do_sample, temperature=temperature)"
      ]
    },
    {
      "cell_type": "markdown",
      "metadata": {
        "id": "IT_Z3GeKoUIq"
      },
      "source": [
        "Let's try Magpie! 🐦‍⬛🐦‍⬛🐦‍⬛"
      ]
    },
    {
      "cell_type": "code",
      "execution_count": null,
      "metadata": {
        "id": "5Rw8kQttoUIq"
      },
      "outputs": [],
      "source": [
        "prompt, user_instruction=generate_instruction()"
      ]
    },
    {
      "cell_type": "code",
      "execution_count": null,
      "metadata": {
        "id": "wr6TG3ZhoUIq",
        "outputId": "63549965-d82e-4adf-e6ce-ae4dc0893e3e"
      },
      "outputs": [
        {
          "name": "stdout",
          "output_type": "stream",
          "text": [
            "<|begin_of_text|><|start_header_id|>user<|end_header_id|>\n",
            "\n",
            "\n"
          ]
        }
      ],
      "source": [
        "print(prompt)"
      ]
    },
    {
      "cell_type": "code",
      "execution_count": null,
      "metadata": {
        "id": "LfgD8gXnoUIq",
        "outputId": "43b91b36-1f97-4ac3-d34b-403f8257b112"
      },
      "outputs": [
        {
          "name": "stdout",
          "output_type": "stream",
          "text": [
            "I'm planning a beach vacation in Costa Rica. Can you recommend some of the best beaches in Costa Rica?\n",
            "\n"
          ]
        }
      ],
      "source": [
        "print(user_instruction)"
      ]
    },
    {
      "cell_type": "code",
      "execution_count": null,
      "metadata": {
        "id": "QqnxpHJgoUIq",
        "outputId": "22ef9011-e056-4710-e235-aa739a055429"
      },
      "outputs": [
        {
          "name": "stdout",
          "output_type": "stream",
          "text": [
            "Costa Rica has an incredible coastline with some of the most beautiful and diverse beaches in the world. Here are some of the best beaches in Costa Rica:\n",
            "\n",
            "1. **Tamarindo Beach**: Located on the Pacific Coast, Tamarindo is a popular spot for surfers, sunbathers, and beach lovers. The beach has a laid-back vibe, with plenty of restaurants, bars, and shops nearby.\n",
            "2. **Playa Manuel Antonio**: This beach is situated in Manuel Antonio National Park, one of Costa Rica's most famous national parks. The beach is known for its stunning scenery, with towering trees, waterfalls, and wildlife viewing opportunities.\n",
            "3. **Playa Flamingo**: Located on the Pacific Coast, Playa Flamingo is a picturesque beach with calm waters, perfect for swimming and snorkeling. The beach is surrounded by a picturesque town with a rich history and culture.\n",
            "4. **Playa Hermosa**: This beach is located near Jacó, a popular surf town on the Central Pacific Coast. Playa Hermosa is known for its stunning sunsets, white sand, and dramatic rock formations.\n",
            "5. **Playa Nosara**: Situated on the Nicoya Peninsula, Playa Nosara is a yoga and wellness hub with a laid-back surfer vibe. The beach is perfect for surfing, paddleboarding, and sunbathing.\n",
            "6. **Playa Samara**: Located near Carrillo, Playa Samara is a beautiful beach with soft sand, crystal-clear waters, and a variety of marine life. It's perfect for swimming, snorkeling, and kayaking.\n",
            "7. **Playa Uvita**: This beach is located on the Osa Peninsula, known for its stunning marine life and snorkeling opportunities. The beach itself is a secluded paradise with white sand and clear waters.\n",
            "8. **Playa Caño Island**: Located near Drake Bay, this beach is accessible only by boat and is known for its stunning coral reefs, sea turtles, and monkeys.\n",
            "9. **Playa Nosara Hill**: Also known as Playa Pelada, this beach is a quieter alternative to the main Playa Nosara. It's perfect for surfers and sunbathers who want to escape the crowds.\n",
            "10. **Playa Tortuga**: Located on the Nicoya Peninsula, Playa Tortuga is a secluded beach with calm waters, perfect for swimming, snorkeling, and kayaking.\n",
            "\n",
            "These are just a few of the many\n"
          ]
        }
      ],
      "source": [
        "print(generate_response(prompt+user_instruction))"
      ]
    },
    {
      "cell_type": "markdown",
      "metadata": {
        "id": "9kpqK989oUIq"
      },
      "source": [
        "🪄 It works nicely!"
      ]
    },
    {
      "cell_type": "code",
      "execution_count": null,
      "metadata": {
        "id": "_HgLx9ysoUIq",
        "outputId": "192cfeec-bb1a-4849-a20e-80f38d1384d7"
      },
      "outputs": [
        {
          "name": "stdout",
          "output_type": "stream",
          "text": [
            "I'm thinking of getting a bunny for a pet. What kind of foods to feed it?\n",
            "\n",
            "\n",
            "----------\n",
            "Congratulations on considering getting a rabbit as a pet! Rabbits are wonderful companions, and with the right diet, they can thrive and live happy, healthy lives. When it comes to feeding your bunny, it's essential to provide a balanced and nutritious diet that meets their unique needs. Here are some tips to help you get started:\n",
            "\n",
            "1. **Hay**: Hay should make up the bulk of your rabbit's diet, about 80-90% of their daily intake. Choose high-quality timothy hay or other grass hay like alfalfa, oat hay, or clover hay. Hay is rich in fiber, which helps keep their digestive system healthy and satisfied.\n",
            "2. **Pellets**: Rabbit pellets are a nutritious mix of grains, vitamins, and minerals. Look for a high-quality pellet that is free from added sugars, artificial flavors, and colors. Limit pellets to about 10-15% of your bunny's daily intake.\n",
            "3. **Veggies**: Fresh vegetables are an excellent addition to your rabbit's diet. Leafy greens like kale, spinach, and collard greens are great options. You can also offer carrots, bell peppers, cucumbers, and more. Aim for about 5-10% of their daily diet.\n",
            "4. **Fresh fruit**: Fresh fruit is a treat, but not a staple. Limit fruit to about 1-2 tablespoons per pound of your rabbit's body weight per day. Choose fruits like berries, melons, and apples. Avoid giving your bunny citrus fruits, like oranges, lemons, or grapes, as they can cause digestive issues.\n",
            "5. **Treats**: Avoid giving your rabbit sugary treats like candy, cookies, or chocolate. Instead, offer healthy treats like dried fruit, carrot tops, or hay-based treats.\n",
            "6. **Avoid** feeding:\n",
            "\t* Rabbit food mixes designed for guinea pigs or hamsters, as they often contain high amounts of sugar and low-quality ingredients.\n",
            "\t* Wild or landscape grasses, as they can be toxic.\n",
            "\t* Too much protein, which can cause health issues and high uric acid levels.\n",
            "\n",
            "**Additional tips**:\n",
            "\n",
            "* Make sure your bunny always has access to fresh water.\n",
            "* Limit the amount of food you offer to prevent overeating and digestive issues.\n",
            "* Consider consulting with a veterinarian or a rabbit-savvy pet sitter to get personalized advice on feeding your bunny.\n",
            "\n",
            "Remember, every rabbit is unique, so it's essential to observe your pet's preferences\n"
          ]
        }
      ],
      "source": [
        "prompt, user_instruction=generate_instruction()\n",
        "print(user_instruction)\n",
        "print(\"-\" * 10)\n",
        "print(generate_response(prompt+user_instruction))"
      ]
    },
    {
      "cell_type": "code",
      "execution_count": null,
      "metadata": {
        "id": "21WpRCzioUIq",
        "outputId": "6f8ca958-efb7-46cc-d00a-1f0f082bbd23"
      },
      "outputs": [
        {
          "name": "stdout",
          "output_type": "stream",
          "text": [
            "What is a Luminous Material?\n",
            "\n",
            "----------\n",
            "A luminous material is a substance that emits light through a process called luminescence. In other words, it produces its own light, rather than simply reflecting or transmitting light from an external source. This can occur naturally or artificially.\n",
            "\n",
            "There are several types of luminous materials, including:\n",
            "\n",
            "1. **Glowing materials**: These emit light without any external energy input, such as radioisotopes, radioactive materials like phosphorescent pigments, and certain types of minerals.\n",
            "2. **Phosphorescent materials**: These absorb light and store it, then release it back out as a glow. Examples include glow sticks, glow-in-the-dark paint, and some types of ceramics.\n",
            "3. **Fluorescent materials**: These absorb light and immediately re-emit it at a different wavelength, often with a longer wavelength than the original light. Fluorescent lamps, for instance, use electrically excited gas to produce light.\n",
            "4. **Bioluminescent materials**: These emit light through a chemical reaction involving living organisms, such as fireflies, glowing mushrooms, or certain types of bacteria.\n",
            "5. **Optically activated materials**: These emit light when exposed to certain wavelengths of light, such as a laser pointer or sunlight. Examples include LED lights, photoluminescent rocks, and certain types of glass.\n",
            "\n",
            "Luminous materials have many practical applications, including:\n",
            "\n",
            "* Lighting: LED lights, lighting panels, and glow-in-the-dark decorations\n",
            "* Medical: Glow-in-the-dark tags, implantable devices, and diagnostic tools\n",
            "* Scientific research: Studying biological processes, detecting radiation, and analyzing materials properties\n",
            "* Art and design: Creating unique, glowing effects in sculptures, paintings, and textiles\n",
            "\n",
            "Overall, luminous materials are fascinating and versatile, allowing us to harness light in various ways to enhance our daily lives, improve our understanding of the world, and inspire artistic expression.\n"
          ]
        }
      ],
      "source": [
        "prompt, user_instruction=generate_instruction()\n",
        "print(user_instruction)\n",
        "print(\"-\" * 10)\n",
        "print(generate_response(prompt+user_instruction))"
      ]
    },
    {
      "cell_type": "markdown",
      "metadata": {
        "id": "tEbuiOYRoUIq"
      },
      "source": [
        "**We can also set the system message, for generating instructions on a specific topic** (code, in this case)."
      ]
    },
    {
      "cell_type": "code",
      "execution_count": null,
      "metadata": {
        "id": "0ucoY9RboUIq",
        "outputId": "5c90f654-d25d-44fd-c3f0-9b146fcddb81"
      },
      "outputs": [
        {
          "name": "stdout",
          "output_type": "stream",
          "text": [
            "Write a Python function to transform the given python function into a Python decorator.\n",
            "\n",
            "\n",
            "----------\n",
            "A decorator is a function that takes another function as an argument and extends the behavior of the given function without permanently modifying it.\n",
            "\n",
            "Here is a simple example of a Python decorator that prints a message before and after the execution of the original function:\n",
            "\n",
            "```\n",
            "def my_decorator(func):\n",
            "    def wrapper():\n",
            "        print(\"Something is happening before the function is called.\")\n",
            "        func()\n",
            "        print(\"Something is happening after the function is called.\")\n",
            "    return wrapper\n",
            "\n",
            "@my_decorator\n",
            "def say_hello():\n",
            "    print(\"Hello!\")\n",
            "```\n",
            "\n",
            "When you call `say_hello()`, it will print:\n",
            "\n",
            "```\n",
            "Something is happening before the function is called.\n",
            "Hello!\n",
            "Something is happening after the function is called.\n",
            "```\n",
            "\n",
            "As you can see, the decorator `my_decorator` is changing the behavior of the `say_hello` function by adding some extra functionality. The `wrapper` function is called instead of the original `say_hello` function.\n"
          ]
        }
      ],
      "source": [
        "system_message=\"You are an AI assistant designed to provide helpful, step-by-step guidance on coding problems. The user will ask you a wide range of coding questions.\\nYour purpose is to assist users in understanding coding concepts, working through code, and arriving at the correct solutions.\"\n",
        "prompt, user_instruction=generate_instruction(system_message=system_message)\n",
        "print(user_instruction)\n",
        "print(\"-\" * 10)\n",
        "print(generate_response(prompt+user_instruction))"
      ]
    },
    {
      "cell_type": "markdown",
      "metadata": {
        "id": "XiJKWq2toUIq"
      },
      "source": [
        "## Multilingual Magpie: first attempts\n",
        "\n",
        "Can Magpie be used to generate instructions in languages other than English?\n",
        "\n",
        "In this [GitHub issue](https://github.com/magpie-align/magpie/issues/7), the authors propose several complex or expensive solutions:\n",
        "- Generate as much data as possible, then filter only the examples in the target language. 💸\n",
        "- Apply a logit processor to penalize penalize tokens not in the target language. 😬\n",
        "\n",
        "\n",
        "Then, Manuel Romero found a simpler solution: append the target language to the pre-query template.\n",
        "[Magpie Ollama Datagen repository](https://github.com/mrm8488/magpie-ollama-datagen)\n",
        "\n",
        "This method worked well for Spanish and German.\n",
        "Manuel also created [some datasets](https://huggingface.co/datasets?other=magpie&search=mrm8488) using this approach.\n",
        "\n",
        "Let's give it a try!"
      ]
    },
    {
      "cell_type": "code",
      "execution_count": null,
      "metadata": {
        "id": "eQUotvDKoUIq",
        "outputId": "95f63d50-e6ae-4934-ab63-f8e633164a58"
      },
      "outputs": [
        {
          "name": "stdout",
          "output_type": "stream",
          "text": [
            "¿Qué se puede hacer con 50 euros en España?\n",
            "\n",
            "\n",
            "----------\n",
            "¡hola! Con 50 euros en España, tienes variedad de opciones para disfrutas de una buena experiencia. Aquí te presento algunas ideas:\n",
            "\n",
            "1. **Comida**: Comprar una comida材úa rica en un restaurante o bar, como una paella, una tortilla española o un bocadillo. (Entre 5-10 euros)\n",
            "2. **Tienda**: Comprar algunos productos básicos en una tienda de alimentación o supermercado, como frutas, verduras, quesos, vino o bebidas. (Entre 10-20 euros)\n",
            "3. **Transporte**: Comprar un billete de autobús o de metro en varias ocasiones o un pequeño plano urbano en Madrid o Barcelona. (Entre 2-5 euros)\n",
            "4. **Arte y cultura**: Visitar un museo o centro de arte, como el Prado o el Reina Sofía en Madrid, o el Picasso o el Joan Miro en Barcelona. (Entre 10-15 euros)\n",
            "5. **Tienda de souvenirs**: Comprar pequeños recuerdos, como patches, joyas o mercancía en tiendas turísticas. (Entre 5-10 euros)\n",
            "6. **Bar y tapas**: Probar algunas tapas en un bar, como patatas bravas, croquetas o pinchos. (Entre 2-5 euros)\n",
            "7. **Sugerencias de viajes**: Utilizar 50 euros para viajar en autobús o tren en una ruta corta, como Madrid-Toledo o Barcelona-Valencia.\n",
            "8. **Buy One Get One Free** (por ejemplo, en un parque de atracciones o en un juego)\n",
            "9. **Mercado de productos locales**: Comprar productos aut_INTERNALizados en un mercado, como frutas y verduras frescas, quesos, olivas o vino. (Entre 10-20 euros)\n",
            "10. **Taller o curso**: Asistir a un taller o curso de cocina, pintura o decorating en una asociación local. (Entre 20-50 euros)\n",
            "\n",
            "¡Recuerda que el coste de la vida en España puede variar según la región y la ciudad! ¡Disfruta y ten un buen viaje!\n"
          ]
        }
      ],
      "source": [
        "prompt, user_instruction=generate_instruction(template_postfix=\"spanish:\")\n",
        "print(user_instruction)\n",
        "print(\"-\" * 10)\n",
        "print(generate_response(prompt+user_instruction))"
      ]
    },
    {
      "cell_type": "markdown",
      "metadata": {
        "id": "kOkKUKQUoUIr"
      },
      "source": [
        "Bueno! 🇪🇸"
      ]
    },
    {
      "cell_type": "code",
      "execution_count": null,
      "metadata": {
        "id": "g9dn3JypoUIr",
        "outputId": "85408583-a0ca-4d4c-d4ff-e120299c27d8"
      },
      "outputs": [
        {
          "name": "stdout",
          "output_type": "stream",
          "text": [
            "Le Coeur de la Perruche\n",
            "\n",
            "----------\n",
            "\"Le Cœur de la Perruche\" is a beautiful French title that translates to \"The Heart of the Parrot\" in English.\n",
            "\n",
            "This title could refer to a story, a poem, or even a character's name. In French culture, the parrot is often seen as a symbol of intelligence, wit, and loyalty, which adds a layer of depth to the title.\n",
            "\n",
            "Here are a few possibilities:\n",
            "\n",
            "* A children's story about a parrot that teaches children about the importance of kindness and empathy.\n",
            "* A romantic novel about a character who finds their soulmate and feels like they've found their \"heart\" or true love (represented by the parrot's symbolic heart).\n",
            "* A character name for a clever and charming individual who has a way of speaking that is as colorful and vibrant as a parrot's feathers.\n",
            "\n",
            "Whatever the context, \"Le Cœur de la Perruche\" is a lovely and evocative title that sparks the imagination!\n"
          ]
        }
      ],
      "source": [
        "prompt, user_instruction=generate_instruction(template_postfix=\"french:\")\n",
        "print(user_instruction)\n",
        "print(\"-\" * 10)\n",
        "print(generate_response(prompt+user_instruction))"
      ]
    },
    {
      "cell_type": "markdown",
      "metadata": {
        "id": "vRJnRDkeoUIr"
      },
      "source": [
        "❌"
      ]
    },
    {
      "cell_type": "code",
      "execution_count": null,
      "metadata": {
        "id": "FC6UC9_ZoUIr",
        "outputId": "566c3161-0c5d-4d45-b522-4683a70036fa"
      },
      "outputs": [
        {
          "name": "stdout",
          "output_type": "stream",
          "text": [
            "Hi there! I'm looking for some recommendations for Italian restaurants in the Dallas area.\n",
            "----------\n",
            "Buonissimo! Dallas has a vibrant Italian-American community, and you'll find many excellent Italian restaurants to choose from. Here are some recommendations:\n",
            "\n",
            "1. **Carbone's**: A classic, upscale Italian-American restaurant in the Design District, known for its retro vibe, rich pasta dishes, and top-notch service.\n",
            "2. **Massimo's Italian Restaurant**: Family-owned and operated in the Park Cities area, Massimo's offers traditional Italian dishes with a focus on fresh, seasonal ingredients and homemade pasta.\n",
            "3. **Biscotti's Ristorante**: Located in the Lower Greenville neighborhood, Biscotti's serves up creative, contemporary Italian cuisine with a focus on small plates and sharable dishes.\n",
            "4. **Il Cane Rosso**: This popular spot in the Deep Ellum neighborhood offers a modern take on traditional Neapolitan pizza, with a wide range of toppings and a lively atmosphere.\n",
            "5. **CiboDivino**: This cozy, family-owned restaurant in the Oak Lawn area serves up authentic, farm-to-table Italian cuisine with a focus on seasonal ingredients and house-made pasta.\n",
            "6. **Basta's Pasta Bar**: For a more casual, quick-service option, head to Basta's in the Design District. They offer a variety of pasta dishes, paninis, and salads at reasonable prices.\n",
            "7. **Pizzeria Testa**: Another popular spot in the Oak Cliff neighborhood, Pizzeria Testa serves up wood-fired Neapolitan-style pizzas, as well as salads, sandwiches, and antipasti.\n",
            "8. **Nonna Tata**: This family-run restaurant in the Oak Lawn area offers traditional Italian comfort food with a focus on homemade pasta, bread, and sauce.\n",
            "9. **Urbano Cafe**: Located in the Uptown area, Urbano Cafe serves up Italian-inspired comfort food, including pasta dishes, paninis, and salads, with a focus on local and sustainable ingredients.\n",
            "10. **Cafe Italia**: This casual, family-friendly spot in the Park Cities area offers a range of Italian-American classics, including pasta dishes, pizza, and sandwiches.\n",
            "\n",
            "These are just a few of the many excellent Italian restaurants in the Dallas area. Buon appetito, and I hope you find the perfect spot to satisfy your Italian cravings!\n"
          ]
        }
      ],
      "source": [
        "prompt, user_instruction=generate_instruction(template_postfix=\"italian:\")\n",
        "print(user_instruction)\n",
        "print(\"-\" * 10)\n",
        "print(generate_response(prompt+user_instruction))"
      ]
    },
    {
      "cell_type": "markdown",
      "metadata": {
        "id": "3lbO3rlVoUIr"
      },
      "source": [
        "❌"
      ]
    },
    {
      "cell_type": "code",
      "execution_count": null,
      "metadata": {
        "id": "60L0IwgUoUIr",
        "outputId": "358e52aa-feb0-40c4-e760-0faffab417cb"
      },
      "outputs": [
        {
          "name": "stdout",
          "output_type": "stream",
          "text": [
            "I'm trying to learn about ALS and Amyotrophic Lateral Sclerosis. Can you tell me about it?\n",
            "\n",
            "\n",
            "----------\n",
            "I'd be happy to help!\n",
            "\n",
            "ALS (Amyotrophic Lateral Sclerosis) is a progressive neurological disease that affects the nerve cells responsible for controlling voluntary muscle movement. It's also known as Motor Neuron Disease (MND) in some parts of the world.\n",
            "\n",
            "Here's a brief overview:\n",
            "\n",
            "**What happens in ALS:**\n",
            "\n",
            "In ALS, the nerve cells (motor neurons) that control muscle movement degenerate and die, leading to muscle weakness, twitching, and wasting. This results in a gradual loss of motor function, affecting various parts of the body, such as:\n",
            "\n",
            "* Arm and leg muscles\n",
            "* Respiratory muscles (breathing)\n",
            "* Tongue and throat muscles (speaking, swallowing)\n",
            "* Eye muscles\n",
            "* Facial muscles\n",
            "\n",
            "**Causes and risk factors:**\n",
            "\n",
            "While the exact cause of ALS is still unknown, research has identified some risk factors, including:\n",
            "\n",
            "* Genetics: Some people may carry a genetic mutation that increases their risk of developing ALS.\n",
            "* Environmental factors: Exposure to certain chemicals, such as pesticides, heavy metals, and toxic substances, may contribute to the development of ALS.\n",
            "* Age: The risk of developing ALS increases with age, with most people diagnosed between 50 and 70 years old.\n",
            "* Family history: Having a family history of ALS increases the risk of developing the disease.\n",
            "\n",
            "**Symptoms:**\n",
            "\n",
            "The symptoms of ALS can vary from person to person, but common early signs include:\n",
            "\n",
            "* Muscle weakness or twitching\n",
            "* Muscle cramps or stiffness\n",
            "* Fatigue\n",
            "* Difficulty speaking, swallowing, or breathing\n",
            "* Muscle atrophy (wasting)\n",
            "* Abnormal reflexes\n",
            "* Muscle cramps or twitching\n",
            "\n",
            "As the disease progresses, people with ALS may experience:\n",
            "\n",
            "* Difficulty walking, balance, or coordination\n",
            "* Loss of bladder or bowel control\n",
            "* Swallowing difficulties\n",
            "* Shortness of breath\n",
            "* Impaired respiratory function\n",
            "\n",
            "**Diagnosis:**\n",
            "\n",
            "There's no specific test for ALS, but a diagnosis is typically made based on a combination of:\n",
            "\n",
            "* Clinical examination\n",
            "* Medical history\n",
            "* Electromyography (EMG)\n",
            "* Nerve conduction velocity tests (NCVs)\n",
            "* Imaging tests (e.g., MRI, CT scans)\n",
            "\n",
            "**Treatment:**\n",
            "\n",
            "While there's currently no cure for ALS, there are medications and therapies to manage symptoms and slow disease progression:\n",
            "\n",
            "* Riluzole (Rilutek): the only FDA-approved medication to slow disease progression\n",
            "* Physical therapy to\n"
          ]
        }
      ],
      "source": [
        "prompt, user_instruction=generate_instruction(template_postfix=\"dutch:\")\n",
        "print(user_instruction)\n",
        "print(\"-\" * 10)\n",
        "print(generate_response(prompt+user_instruction))"
      ]
    },
    {
      "cell_type": "markdown",
      "metadata": {
        "id": "sX7WIKVnoUIr"
      },
      "source": [
        "❌"
      ]
    },
    {
      "cell_type": "markdown",
      "metadata": {
        "id": "iEzwp5evoUIr"
      },
      "source": [
        "Unfortunately, this technique does not work with some languages, even if Llama 3 8B has good performance on them."
      ]
    },
    {
      "cell_type": "markdown",
      "metadata": {
        "id": "ICc4pwD0oUIr"
      },
      "source": [
        "## 🐦‍⬛ Multilingual Magpie: use system message 🦙\n",
        "\n",
        "Then, I had an idea: 💡 use the system message to steer the generation towards a specific language.\n",
        "\n",
        "It is a simple approach, but it might work...\n",
        "It turns out the authors had a similar idea, which was included in the latest revision of their paper. 🎉\n",
        "\n",
        "Let's try it.\n",
        "We will prompt the model with a system message in the target language, saying something like:\n",
        "\"You are an artificial intelligence that answers users' questions in TARGET_LANGUAGE in a useful and detailed way. The user asks complex questions in TARGET_LANGUAGE.\""
      ]
    },
    {
      "cell_type": "code",
      "execution_count": null,
      "metadata": {
        "id": "_1lNn3wMoUIr",
        "outputId": "a3a6b65d-c1d7-4a70-cd87-625d61084832"
      },
      "outputs": [
        {
          "name": "stdout",
          "output_type": "stream",
          "text": [
            "Bonjour! Je souhaite créer un jeu vidéo de type survival-horror avec des éléments de management de ressources et de construction.\n",
            "----------\n",
            "Créer un jeu vidéo de type survival-horror avec des éléments de management de ressources et de construction, c'est un projet excitant! Voici quelques éléments à prendre en compte pour vous aider à démarrer :\n",
            "\n",
            "**Concept et objectifs**\n",
            "\n",
            "* Définissez votre concept de jeu : le genre, l'univers, les personnages, les objectifs, les mécaniques de jeu, etc.\n",
            "* Identifiez les éléments clés de jeu que vous voulez inclure, tels que le management de ressources, la construction, la survie, la poursuite, l'exploration, etc.\n",
            "* Fixez les objectifs du jeu pour les joueurs, par exemple : échapper à un lieu dangereux, survivre à une catastrophe, survivre dans un monde hostile, etc.\n",
            "\n",
            "**Gameplay**\n",
            "\n",
            "*Définissez les mécaniques de jeu : Expliquez comment les joueurs vont interagir avec l'environnement, les objets, les autres personnages, les systèmes de construction, etc.\n",
            "* Créez un système de ressources : comment les joueurs vont collecter, stocker et gérer les ressources, telles que l'énergie, les vivres, les armes, les equipment, etc.\n",
            "* Créez un système de construction : comment les joueurs vont construire des abris, des structures, des défenses, etc.\n",
            "* Établissez les règles de construction, les limites de taille, les coûts, les ressources nécessaires, etc.\n",
            "* Créez un système de survival : comment les joueurs vont gérer leurs caractéristiques de santé, leur énergie, leur soif, leur faim, leurs blessures, etc.\n",
            "\n",
            "**Environnement et ambiance**\n",
            "\n",
            "* Créez un monde ou un univers riche et immersive, avec des graphismes et des sons efficaces pour créer une atmosphère de peur et de tension.\n",
            "* Établissez un système de combat et de déplacement : comment les joueurs vont se déplacer, se défendre, utiliser les armes, etc.\n",
            "* Créez des ennemis et des boss : comment ils se comportent, quels sont leurs forces, faiblesses, habits de combat, etc.\n",
            "* Ajoutez des éléments de tension et de surprise :\n"
          ]
        }
      ],
      "source": [
        "system_message=\"Vous êtes une intelligence artificielle qui répond aux questions des utilisateurs en français de manière utile et détaillée. L'utilisateur pose des questions complexes en français.\"\n",
        "prompt, user_instruction=generate_instruction(system_message=system_message, temperature=0.7)\n",
        "print(user_instruction)\n",
        "print(\"-\" * 10)\n",
        "print(generate_response(prompt+user_instruction))"
      ]
    },
    {
      "cell_type": "markdown",
      "metadata": {
        "id": "S2lbYY71oUIr"
      },
      "source": [
        "Parfait! 🥐"
      ]
    },
    {
      "cell_type": "code",
      "execution_count": null,
      "metadata": {
        "id": "Z4INzDVsoUIr",
        "outputId": "7f7ad234-aad9-4912-8ccd-4568fde6446f"
      },
      "outputs": [
        {
          "name": "stdout",
          "output_type": "stream",
          "text": [
            "La mia azienda è un'azienda di servizi tecnici specializzata in manutenzione e assistenza tecnica per impianti industriali. Il mio team di tecnici è formato da 40 dipendenti, tutti con diversi livelli di esperienza e competenze. Per migliorare l'efficienza e la produttività del team, ti chiedo di aiutarmi a identificare le aree di miglioramento e a sviluppare un piano di azione per raggiungerle.\n",
            "\n",
            "\n",
            "----------\n",
            "Sarò felice aiutarti a identificare le aree di miglioramento e a creare un piano d'azione per la tua azienda. Per fare ciò, vi vorrei chiedere alcune informazioni sulle operazioni attuali della tua azienda.\n",
            "\n",
            "1. Quali sono gli impianti industriali serviti dalla tua azienda?\n",
            "2. Quale è la composizione del team di tecnici, in termini di ruoli, esperienze e competenze?\n",
            "3. Quali sono le attività principali (ad esempio, manutenzione preventiva, assistenza tecnica, Monte sostituzione eοςlements) che il team di tecnici esegue?\n",
            "4. Quale è il processo di incarico attuale per i tecnici, ovvero come vengono assegnati gli incarichi e come vengono seguite le prestazioni?\n",
            "5. Come vengono monitorate le prestazioni del team di tecnici, ad esempio in termini di tempi di risoluzione dei problemi, punti di riposo e soddisfazione dei clienti?\n",
            "6. Quali sono i maggiori problemi o sfide che il team di tecnici sta affrontando nel loro lavoro quotidiano?\n",
            "7. Quali sono le aree di formazione e sviluppo in cui il team di tecnici potrebbe beneficiare di più maggiore supports?\n",
            "\n",
            "Una volta che avremo identificato queste informazioni, possiamo analizzarle per indentificare le aree di miglioramento più rilevanti e creare un piano d'azione per migliorare l'efficienza e la produttività del team di tecnici.\n",
            "\n",
            "Inoltre, potremmo anche considerare di utilizzare alcuni strumenti di gestione del processo come ad esempio:\n",
            "\n",
            "* l'implementazione di un sistema di ticket per gestire le richieste di assitenza\n",
            "* la creazione di un piano di formazione per soddisfare le esigenze di formazione e sviluppo del team\n",
            "* l'introduzione di una modalità di monitoraggio delle prestazioni per monitorare l'efficienza del team\n",
            "* la creazione di un sistema di feedback per garantire che i tecnici ricevano feedback regolare dalle parti interessate\n",
            "\n",
            "\n"
          ]
        }
      ],
      "source": [
        "system_message=\"Sei un'AI che risponde in modo utile e dettagliato alle domande dell'utente. L'utente fa domande complesse in italiano.\"\n",
        "prompt, user_instruction=generate_instruction(system_message=system_message, temperature=0.7)\n",
        "print(user_instruction)\n",
        "print(\"-\" * 10)\n",
        "print(generate_response(prompt+user_instruction))"
      ]
    },
    {
      "cell_type": "markdown",
      "metadata": {
        "id": "uilSXr-GoUIr"
      },
      "source": [
        "Andiamo alla grande! 🍕"
      ]
    },
    {
      "cell_type": "code",
      "execution_count": null,
      "metadata": {
        "id": "4Oe0Q5Y1oUIr",
        "outputId": "8dc8a5ee-0143-46e2-9938-46d74568322b"
      },
      "outputs": [
        {
          "name": "stdout",
          "output_type": "stream",
          "text": [
            "Wat zijn de belangrijkste voorwaarden om een goede levensstijl te hebben?\n",
            "----------\n",
            "Een goede levensstijl is een subtiele en brede concept, maar er zijn enkele voorwaarden die een grote invloed hebben op een gezonde, gelukkige en rationele levensstijl. Hier zijn enkele van de belangrijkste voorwaarden:\n",
            "\n",
            "1. **Een balans tussen werk en privéleven**: Het is essentieel om een goede scheiding te maken tussen werk en privéleven, om adequaat te kunnen genieten van vrij spel en ontspanning.\n",
            "2. **Gezond eten en drinken**: Een gezond dieet en een adequaat watergebruik zijn cruciaal voor een goede fysieke conditie en mentale zuiverheid. Een diversiteit aan fruit, groenten, volkoren en eiwitten is essentieel.\n",
            "3. **Voldoende slaap en rust**: Ongeveer 7-9 uur slaap per nacht is noodzakelijk voor een goede fysieke en mentale conditie. Extra momenten van rust en ontspanning zijn belangrijk voor het herstel van het lichaam en de mentale gezondheid.\n",
            "4. **Fysieke activiteit en begeleide exercise**: Reguliere fysieke activiteit, zoals wandelen, sporten, dansen of yoga, kan helpen bij het onderhouden van een goede fysieke conditie, het verminders van stress en het verbeteren van de khopiitatie.\n",
            "5. **Mentale oefeningen en reflectie**: Het verzamelen van thoughtfully over eigen ideeën, emoties en doelstellingen kan helpen bij het verbeteren van de psychische vaardigheden, like self-awareness en besluitvorming.\n",
            "6. **Vriendschappen en sociale contacten**: Sociale contacten zijn essentieel voor emotionele ondersteuning, sociale aansluiting en het vergroten van ervaringen.\n",
            "7. **Personal growth en leren**: Het overstappen van comfortzone, het leren van nieuwe vaardigheden en het uitbreiden van kennis kan helpen bij het onderhouden van een positieve benadering en het bereiken van langstreichende do\n"
          ]
        }
      ],
      "source": [
        "system_message=\"Je bent een kunstmatige intelligentie die vragen van gebruikers in het Nederlands op een behulpzame en gedetailleerde manier beantwoordt. De gebruiker stelt complexe vragen in het Nederlands.\"\n",
        "prompt, user_instruction=generate_instruction(system_message=system_message, temperature=0.7)\n",
        "print(user_instruction)\n",
        "print(\"-\" * 10)\n",
        "print(generate_response(prompt+user_instruction))"
      ]
    },
    {
      "cell_type": "markdown",
      "metadata": {},
      "source": [
        "Helemaal goed! 🌷"
      ]
    },
    {
      "cell_type": "markdown",
      "metadata": {},
      "source": [
        "This approach can work well with any inference solution for open models, including Ollama: you can then generate synthetic datasets on your standard machine."
      ]
    },
    {
      "cell_type": "markdown",
      "metadata": {},
      "source": [
        "## Conclusion\n",
        "\n",
        "In this notebook, I introduced Magpie, a powerful technique for generating synthetic instruction datasets. I also explored several ways toapply it to languages other than English.\n",
        "\n",
        "### Recommendations\n",
        "- I haven't extensively tested this approach, so I cannot guarantee on the quality of the generated examples. I encourage you to experiment and see how it works for your use case.\n",
        "- A key part of generating datasets with Magpie lies in automatically evaluating and filtering the examples. To explore this in more detail, I recommend checking out [magpie-ultra](https://huggingface.co/datasets/argilla/magpie-ultra-v0.1), a dataset created by Argilla using this technique; they also shared the code for building, evaluating, and filtering the dataset.\n",
        "- While our examples are useful for understanding Magpie at a low level, I recommend using the [⚗️ distilabel framework](https://distilabel.argilla.io/latest/) for applying this technique at scale. It offers a robust set of features for synthetic data generation and AI feedback.\n",
        "\n",
        "If you enjoyed this notebook, feel free to follow me on [Hugging Face](https://huggingface.co/anakin87), [LinkedIn](https://www.linkedin.com/in/stefano-fiorucci/), and [X](https://twitter.com/theanakin87). If you notice any errors or inaccuracies, don't hesitate to reach out."
      ]
    },
    {
      "cell_type": "markdown",
      "metadata": {},
      "source": [
        "## References\n",
        "\n",
        "- Zhangchen Xu, Fengqing Jiang, Luyao Niu, Yuntian Deng, Radha Poovendran, Yejin Choi, Bill Yuchen Lin\n",
        "  - [Magpie: Alignment Data Synthesis from Scratch by Prompting Aligned LLMs with Nothing](https://huggingface.co/papers/2406.08464); 2024\n",
        "  - [Magpie repository](https://github.com/magpie-align/magpie); 2024\n",
        "- Daniel van Strien; [Magpie demo](https://huggingface.co/spaces/davanstrien/magpie); 2024\n",
        "- Manuel Romero; [magpie-ollama-datagen repository](https://github.com/mrm8488/magpie-ollama-datagen); 2024\n",
        "- Argilla\n",
        "  - [magpie-ultra dataset](https://huggingface.co/datasets/argilla/magpie-ultra-v0.1); 2024\n",
        "  - [Distilabel: An AI Feedback (AIF) framework for building datasets with and for LLMs](https://distilabel.argilla.io/latest/); 2024"
      ]
    }
  ],
  "metadata": {
    "colab": {
      "provenance": []
    },
    "kernelspec": {
      "display_name": ".venv",
      "language": "python",
      "name": "python3"
    },
    "language_info": {
      "codemirror_mode": {
        "name": "ipython",
        "version": 3
      },
      "file_extension": ".py",
      "mimetype": "text/x-python",
      "name": "python",
      "nbconvert_exporter": "python",
      "pygments_lexer": "ipython3",
      "version": "3.10.12"
    }
  },
  "nbformat": 4,
  "nbformat_minor": 0
}
