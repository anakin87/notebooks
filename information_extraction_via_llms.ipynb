{
  "cells": [
    {
      "cell_type": "markdown",
      "metadata": {
        "id": "8Ksv005GbN2w"
      },
      "source": [
        "# 🧪🦍 Needle in a Jungle - Information Extraction via LLMs\n",
        "\n",
        "<a target=\"_blank\" href=\"https://colab.research.google.com/github/anakin87/notebooks/blob/main/information_extraction_via_llms.ipynb\">\n",
        "  <img src=\"https://colab.research.google.com/assets/colab-badge.svg\" alt=\"Open In Colab\" width=\"200\"/>\n",
        "</a>\n",
        "\n",
        "<img src=\"https://haystack.deepset.ai/images/haystack-ogimage.png\" width=\"430\" style=\"display:inline;\">&nbsp;&nbsp;&nbsp;&nbsp;&nbsp;&nbsp;<img src=\"https://github.com/ShishirPatil/gorilla/raw/gh-pages/assets/img/logo.png\" width=\"250\" style=\"display:inline;\">\n",
        "\n",
        "In this experiment, we will use Large Language Models to perform Information Extraction from textual data.\n",
        "\n",
        "🎯 Goal: create an application that, given a text (or URL) and a specific structure provided by the user, extracts information from the source.\n",
        "\n",
        "The \"**function calling**\" capabilities of OpenAI models unlock this task: the user can describe a structure, by defining a fake function with all its typed and specific parameters. The LLM will prepare the data in this specific form and send it back to the user.\n",
        "\n",
        "A nice example of using OpenAI Function Calling for information extraction is this [gist by Kyle McDonald](https://gist.github.com/kylemcdonald/dbac21de2d7855633689f5526225154c).\n",
        "\n",
        "**What is changing now is that open models such as Gorilla are emerging, with function calling capabilities...**\n",
        "\n",
        "\n",
        "\n",
        "**Stack**\n",
        "- **[Gorilla OpenFunctions](https://github.com/ShishirPatil/gorilla/tree/main/openfunctions)**: an open-source model that formulates executable API/Function calls given natural language instructions and API/Function definition.\n",
        "- **[Haystack](https://haystack.deepset.ai/)**: open-source LLM orchestration framework that streamlines the development of your LLM applications."
      ]
    },
    {
      "cell_type": "markdown",
      "metadata": {
        "colab_type": "toc",
        "id": "FENpHc71sBmV"
      },
      "source": [
        ">[🧪🦍 Needle in a Jungle - Information Extraction via LLMs](#scrollTo=8Ksv005GbN2w)\n",
        "\n",
        ">>[Install the dependencies](#scrollTo=Qd4cBgege7PW)\n",
        "\n",
        ">>[Load and try the model](#scrollTo=-3GvBu0Ffp9I)\n",
        "\n",
        ">>[Prompt template and Prompt Builder](#scrollTo=uXiUvn0dsNj6)\n",
        "\n",
        ">>[Other Components](#scrollTo=vlqZUbLqyTtT)\n",
        "\n",
        ">>[Define a custom Component to parse and visualize the result](#scrollTo=ASq0gDuZ1Vn_)\n",
        "\n",
        ">>[Create an Information Extraction Pipeline](#scrollTo=pAMBYA7ZFEk0)\n",
        "\n"
      ]
    },
    {
      "cell_type": "markdown",
      "metadata": {
        "id": "Qd4cBgege7PW"
      },
      "source": [
        "## Install the dependencies\n",
        "`accelerate` and `bitsandbytes` are needed to load the model in a quantized version that runs smoothly on Colab."
      ]
    },
    {
      "cell_type": "code",
      "execution_count": null,
      "metadata": {
        "id": "UBhGlKTXesIX"
      },
      "outputs": [],
      "source": [
        "%%capture\n",
        "! pip install transformers accelerate bitsandbytes\n",
        "# we install Haystack from the main branch, because we need some very recent features\n",
        "! git clone https://github.com/deepset-ai/haystack && cd haystack && pip install ."
      ]
    },
    {
      "cell_type": "markdown",
      "metadata": {
        "id": "-3GvBu0Ffp9I"
      },
      "source": [
        "## Load and try the model\n",
        "We use the `HuggingFaceLocalGenerator`, which allows to locally load a model hosted on Hugging Face.\n",
        "We also specify some quantization options to run the model with the limited resources offered by Colab. [An article about the HuggingFaceLocalGenerator on Haystack](https://haystack.deepset.ai/blog/guide-to-using-zephyr-with-haystack2).\n",
        "\n",
        "A few notes:\n",
        "- Although the model would be availaible in a free deployed version, with an OpenAI-compatible API, I decided not to use this option, as I found the server rather unstable.\n",
        "- To load the model on Colab, I sharded it myself and published it on Hugging Face. To understand why you need a sharded version, you can read [this excellent article by Maarten Grootendorst](https://www.maartengrootendorst.com/blog/quantization/#2-sharding)."
      ]
    },
    {
      "cell_type": "code",
      "execution_count": null,
      "metadata": {
        "colab": {
          "base_uri": "https://localhost:8080/",
          "height": 49,
          "referenced_widgets": [
            "f9199a6a93bd476399bb10f0c5998ff5",
            "865149cdf9f64f308481884092049356",
            "9219aad138f241f9854c3aa32825fc6e",
            "5ac7b29812ca459281ff7970334f8c98",
            "e5579df0e65e4fbc9e5fbe26bcbafb4d",
            "72932512578446e2ba5e1fa1484c2122",
            "716bf646f0c44a34ab568c3f1d795764",
            "4ffa82cec76c4fbebd13f0cd18e9669d",
            "00ac0ccbad934b2589ed3cc1f9ffc976",
            "c6068da42c4a42f0bfab76d3944f9980",
            "455dc9910a3947d089b88acd80539727"
          ]
        },
        "id": "-_V9RbxafpdY",
        "outputId": "ad86d093-c182-42e6-e2ce-145519f7b127"
      },
      "outputs": [
        {
          "data": {
            "application/vnd.jupyter.widget-view+json": {
              "model_id": "f9199a6a93bd476399bb10f0c5998ff5",
              "version_major": 2,
              "version_minor": 0
            },
            "text/plain": [
              "Loading checkpoint shards:   0%|          | 0/7 [00:00<?, ?it/s]"
            ]
          },
          "metadata": {},
          "output_type": "display_data"
        }
      ],
      "source": [
        "import torch\n",
        "from haystack.components.generators import HuggingFaceLocalGenerator\n",
        "\n",
        "generator = HuggingFaceLocalGenerator(\"anakin87/gorilla-openfunctions-v0-sharded\",\n",
        "                                          huggingface_pipeline_kwargs={\"device_map\":\"auto\",\n",
        "                                                                      \"model_kwargs\":{\"load_in_8bit\":True,\n",
        "                                                                                    \"torch_dtype\":torch.float16}},\n",
        "                                          generation_kwargs={\"max_new_tokens\":128,\n",
        "                                                             \"batch_size\":16})\n",
        "generator.warm_up()"
      ]
    },
    {
      "cell_type": "markdown",
      "metadata": {
        "id": "cp4hJ34JivkB"
      },
      "source": [
        "To understand how to prompt the model, give a look at the [GitHub README](https://github.com/ShishirPatil/gorilla/tree/main/openfunctions#running-openfunctions-locally).\n",
        "Later we will see how to better organize the prompt for our purpose."
      ]
    },
    {
      "cell_type": "code",
      "execution_count": null,
      "metadata": {
        "id": "MdU98plyfdZ1"
      },
      "outputs": [],
      "source": [
        "prompt=\"\"\"USER: <<question>> Call me an Uber ride type \\\"Plus\\\" in Berkeley at zipcode 94704 in 10 minutes\n",
        "<<function>> [    {\n",
        "        \"name\": \"Uber Carpool\",\n",
        "        \"api_name\": \"uber.ride\",\n",
        "        \"description\": \"Find suitable ride for customers given the location, type of ride, and the amount of time the customer is willing to wait as parameters\",\n",
        "        \"parameters\":  [{\"name\": \"loc\", \"description\": \"location of the starting place of the uber ride\"}, {\"name\":\"type\", \"enum\": [\"plus\", \"comfort\", \"black\"], \"description\": \"types of uber ride user is ordering\"}, {\"name\": \"time\", \"description\": \"the amount of time in minutes the customer is willing to wait\"}]\n",
        "    }]\n",
        "\n",
        "ASSISTANT: \"\"\""
      ]
    },
    {
      "cell_type": "code",
      "execution_count": null,
      "metadata": {
        "colab": {
          "base_uri": "https://localhost:8080/"
        },
        "id": "iPIqKQe8j2wX",
        "outputId": "aa648e89-bace-4ea8-c6da-e3a67b46e077"
      },
      "outputs": [
        {
          "name": "stdout",
          "output_type": "stream",
          "text": [
            "{'replies': [' uber.ride(loc=\"berkeley\", type=\"plus\", time=10)']}\n"
          ]
        }
      ],
      "source": [
        "print(generator.run(prompt=prompt))"
      ]
    },
    {
      "cell_type": "markdown",
      "metadata": {
        "id": "4zvaVXFcmy2v"
      },
      "source": [
        "All good! ✅"
      ]
    },
    {
      "cell_type": "markdown",
      "metadata": {
        "id": "uXiUvn0dsNj6"
      },
      "source": [
        "## Prompt template and Prompt Builder\n",
        "\n",
        "- The Prompt template to apply is model specific. In our case, we customize a bit the original prompt which is available on [GitHub](https://github.com/ShishirPatil/gorilla/tree/main/openfunctions#running-openfunctions-locally).\n",
        "- In Haystack, the prompt template is rendered using the [Prompt Builder component](https://docs.haystack.deepset.ai/v2.0/docs/promptbuilder)."
      ]
    },
    {
      "cell_type": "code",
      "execution_count": null,
      "metadata": {
        "id": "mhcao8wYj9ew"
      },
      "outputs": [],
      "source": [
        "from haystack.components.builders import PromptBuilder\n",
        "\n",
        "prompt_template = \"\"\"USER: <<question>> Extract data from the following text. START TEXT. {{docs[0].content|truncate(10000)}} END TEXT. <<function>> {{function}}\n",
        "\n",
        "ASSISTANT: \"\"\"\n",
        "\n",
        "prompt_builder = PromptBuilder(template=prompt_template)"
      ]
    },
    {
      "cell_type": "code",
      "execution_count": null,
      "metadata": {
        "colab": {
          "base_uri": "https://localhost:8080/"
        },
        "id": "dNA4VHAtxsQR",
        "outputId": "5c6979d7-0d62-48e6-c14d-8c97a1d3c308"
      },
      "outputs": [
        {
          "name": "stdout",
          "output_type": "stream",
          "text": [
            "{'prompt': 'USER: <<question>> Extract data from the following text. START TEXT. my fake document END TEXT. <<function>> my fake function definition\\n\\nASSISTANT: '}\n"
          ]
        }
      ],
      "source": [
        "# let's see if the Prompt Builder works properly\n",
        "\n",
        "from haystack import Document\n",
        "print(prompt_builder.run(docs=[Document(content=\"my fake document\")], function=\"my fake function definition\"))"
      ]
    },
    {
      "cell_type": "markdown",
      "metadata": {
        "id": "iOonBACL9eue"
      },
      "source": [
        "Nice ✅"
      ]
    },
    {
      "cell_type": "markdown",
      "metadata": {
        "id": "vlqZUbLqyTtT"
      },
      "source": [
        "## Other Components"
      ]
    },
    {
      "cell_type": "markdown",
      "metadata": {
        "id": "VFU0J3_nzdxz"
      },
      "source": [
        "The following Components are required for the Pipeline we are about to create. However, they are simple and there is no need to customize and try them, so we can instantiate them directly during Pipeline creation.\n",
        "\n",
        "- [LinkContentFetcher](https://docs.haystack.deepset.ai/v2.0/docs/linkcontentfetcher): fetches the contents of the urls you give it and returns a list of content streams.\n",
        "- [HTMLToDocument](https://docs.haystack.deepset.ai/v2.0/docs/htmltodocument): converts HTML files to Documents.\n",
        "- [DocumentJoiner](https://docs.haystack.deepset.ai/v2.0/docs/documentjoiner): join lists of Documents.\n",
        "- [DocumentCleaner](https://docs.haystack.deepset.ai/v2.0/docs/documentcleaner): make text documents more readable.\n",
        "\n"
      ]
    },
    {
      "cell_type": "markdown",
      "metadata": {
        "id": "ASq0gDuZ1Vn_"
      },
      "source": [
        "## Define a custom Component to parse and visualize the result\n",
        "\n",
        "The output of the model generation is a function call string.\n",
        "\n",
        "We are going to create a simple Haystack Component to appropriately parse this string and create a nice HTML visualization.\n",
        "\n",
        "For more information on Creating custom Components, see the [docs](https://docs.haystack.deepset.ai/v2.0/docs/custom-components)."
      ]
    },
    {
      "cell_type": "code",
      "execution_count": null,
      "metadata": {
        "id": "MWIXo9gOyTP6"
      },
      "outputs": [],
      "source": [
        "from haystack import component\n",
        "from typing import List, Optional\n",
        "import ast\n",
        "import re\n",
        "\n",
        "def val_to_color(val):\n",
        "  \"\"\"\n",
        "  Helper function to return a color based on the type/value of a variable\n",
        "  \"\"\"\n",
        "  if isinstance(val, list):\n",
        "    return \"#FFFEE0\"\n",
        "  if val is True:\n",
        "    return \"#90EE90\"\n",
        "  if val is False:\n",
        "    return \"#FFCCCB\"\n",
        "  return \"\"\n",
        "\n",
        "@component\n",
        "class FunctionCallParser:\n",
        "  \"\"\"\n",
        "  A component that parses the function call string and creates a HTML visualization\n",
        "  \"\"\"\n",
        "  @component.output_types(html_visualization=str)\n",
        "  def run(self, replies:List[str]):\n",
        "\n",
        "    func_call_str = replies[0].strip().replace('\\n','')\n",
        "\n",
        "    # sometimes the model output starts with \"extract_data(type=text)...\" or similar expressions\n",
        "    # that can't be correctly parsed, so we remove this substring\n",
        "    func_call_str=re.sub(\"type=[a-zA-Z]+\\)?,?\",\"\",func_call_str)\n",
        "\n",
        "    # sometimes the output is like this: \"extract_data(..., properties={\"date\": \"2022-01-01\", ...})\"\n",
        "    if \"properties={\" in func_call_str:\n",
        "      clean_json_str = func_call_str.split(\"properties=\")[-1].strip(')')\n",
        "      kwargs = ast.literal_eval(clean_json_str)\n",
        "    else:\n",
        "    # sometimes, it is a proper function call: \"extract_data(date=\"2022-01-01\", ...)\"\n",
        "      func_call=ast.parse(func_call_str).body[0].value\n",
        "      kwargs = {arg.arg: ast.literal_eval(arg.value) for arg in func_call.keywords}\n",
        "\n",
        "    # Convert data to HTML format\n",
        "    html_content = '<div style=\"border: 1px solid #ccc; padding: 10px; border-radius: 5px; background-color: #f9f9f9;\">'\n",
        "    for key, value in kwargs.items():\n",
        "        html_content += f'<p><span style=\"font-family: Cursive; font-size: 30px;\">{key}:</span>'\n",
        "        html_content += f'&emsp;<span style=\"background-color:{val_to_color(value)}; font-family: Cursive; font-size: 20px;\">{value}</span></p>'\n",
        "    html_content += '</div>'\n",
        "\n",
        "    return {\"html_visualization\": html_content}"
      ]
    },
    {
      "cell_type": "markdown",
      "metadata": {
        "id": "pAMBYA7ZFEk0"
      },
      "source": [
        "## Create an Information Extraction Pipeline\n",
        "\n",
        "To combine the Components in an appropriate and reproducible way, we resort to Haystack Pipelines.\n",
        "The syntax should be easily understood. You can find more infomation [in the docs](https://docs.haystack.deepset.ai/v2.0/docs/pipelines)."
      ]
    },
    {
      "cell_type": "code",
      "execution_count": null,
      "metadata": {
        "id": "B9W73HI3yBHU"
      },
      "outputs": [],
      "source": [
        "from haystack import Pipeline\n",
        "from haystack.components.fetchers import LinkContentFetcher\n",
        "from haystack.components.converters import HTMLToDocument\n",
        "from haystack.components.preprocessors import DocumentCleaner\n",
        "from haystack.components.routers import DocumentJoiner\n",
        "\n",
        "pipe = Pipeline()\n",
        "\n",
        "pipe.add_component(\"fetcher\", LinkContentFetcher())\n",
        "pipe.add_component(\"converter\", HTMLToDocument(extractor_type=\"KeepEverythingExtractor\"))\n",
        "pipe.add_component(\"joiner\", DocumentJoiner())\n",
        "pipe.add_component(\"cleaner\", DocumentCleaner())\n",
        "pipe.add_component(\"prompt_builder\", prompt_builder)\n",
        "pipe.add_component(\"generator\", generator)\n",
        "pipe.add_component(\"parser\", FunctionCallParser())\n",
        "\n",
        "pipe.connect(\"fetcher\", \"converter\")\n",
        "pipe.connect(\"converter\", \"joiner\")\n",
        "pipe.connect(\"joiner\", \"cleaner\")\n",
        "pipe.connect(\"cleaner.documents\", \"prompt_builder.docs\")\n",
        "pipe.connect(\"prompt_builder\", \"generator\")\n",
        "pipe.connect(\"generator\", \"parser\")"
      ]
    },
    {
      "cell_type": "markdown",
      "metadata": {
        "id": "VOPugHXvKwdp"
      },
      "source": [
        "Let's draw our Pipeline!"
      ]
    },
    {
      "cell_type": "code",
      "execution_count": null,
      "metadata": {
        "colab": {
          "base_uri": "https://localhost:8080/",
          "height": 1000
        },
        "id": "WnSmQw_RHWC8",
        "outputId": "73a447d9-f8a5-4a78-92ef-5501bf5482f2"
      },
      "outputs": [
        {
          "data": {
            "image/png": "[encoded data removed]",
            "text/plain": [
              "<IPython.core.display.Image object>"
            ]
          },
          "execution_count": 9,
          "metadata": {},
          "output_type": "execute_result"
        }
      ],
      "source": [
        "from IPython.display import Image\n",
        "\n",
        "pipe.draw('pipe.png')\n",
        "Image('pipe.png')"
      ]
    },
    {
      "cell_type": "markdown",
      "metadata": {
        "id": "5fCLeNtVLJLm"
      },
      "source": [
        "Now we create an `extract` function that wraps the Pipeline.\n",
        "This will accept:\n",
        "- a `function` dict, containing the structure definition of the information we want to extract\n",
        "- a `url` or a `text`, to use as data source"
      ]
    },
    {
      "cell_type": "code",
      "execution_count": null,
      "metadata": {
        "id": "r0fsBycdFxzV"
      },
      "outputs": [],
      "source": [
        "from IPython.display import display, HTML\n",
        "\n",
        "def extract(function:dict, url: Optional[str]=None, text: Optional[str]=None) -> dict:\n",
        "  if not function:\n",
        "    raise ValueError(\"function definition is needed\")\n",
        "  if not url and not text:\n",
        "    raise ValueError(\"URL or text are needed\")\n",
        "  if url and text:\n",
        "    raise ValueError(\"you should specify either a URL or a text\")\n",
        "\n",
        "  urls = []\n",
        "  documents = []\n",
        "  if url:\n",
        "    urls.append(url)\n",
        "  if text:\n",
        "    documents.append(Document(content=text))\n",
        "\n",
        "  generation_kwargs={\"min_new_tokens\":50, # this encourages the model to extract at least some information\n",
        "                     \"max_new_tokens\":1000,\n",
        "                     \"batch_size\":16}\n",
        "\n",
        "  data_for_pipeline = {\"fetcher\":{\"urls\":urls},\n",
        "                       \"joiner\":{\"documents\":documents},\n",
        "                       \"prompt_builder\":{\"function\":function},\n",
        "                       \"generator\": {\"generation_kwargs\": generation_kwargs}}\n",
        "\n",
        "  html_visualization = pipe.run(data=data_for_pipeline)['parser']['html_visualization']\n",
        "  display(HTML(html_visualization))"
      ]
    },
    {
      "cell_type": "markdown",
      "metadata": {
        "id": "furABTbcV57u"
      },
      "source": [
        "## 🕹️ Try our application!"
      ]
    },
    {
      "cell_type": "markdown",
      "metadata": {
        "id": "_zgm1yj6WHf7"
      },
      "source": [
        "Let's first define the structure to extract.\n",
        "\n",
        "We are going to parse some articles about animals... 🦆🐻🦌"
      ]
    },
    {
      "cell_type": "code",
      "execution_count": null,
      "metadata": {
        "id": "dWtLYYacGGht"
      },
      "outputs": [],
      "source": [
        "function = {\n",
        "    \"name\": \"extract_data\",\n",
        "    \"description\": \"Extract data from text\",\n",
        "    \"parameters\": {\n",
        "        # \"type\": \"object\",  #  I found that the Gorilla model works better without this item\n",
        "        \"properties\": {\n",
        "            \"about_animals\": {\n",
        "                \"description\": \"Is the article about animals?\",\n",
        "                \"type\": \"boolean\",\n",
        "            },\n",
        "            \"about_ai\": {\n",
        "                \"description\": \"Is the article about artificial intelligence?\",\n",
        "                \"type\": \"boolean\",\n",
        "            },\n",
        "            \"weight\": {\n",
        "                \"description\": \"what is the weight of the animal in lbs?\",\n",
        "                \"type\": \"integer\",\n",
        "            },\n",
        "            \"habitat\": {\n",
        "                \"description\": \"List of places where the animal lives\",\n",
        "                \"type\": \"array\",\n",
        "                \"items\": {\"type\": \"string\"},\n",
        "            },\n",
        "            \"diet\": {\n",
        "                \"description\": \"What does the animal eat?\",\n",
        "                \"type\": \"array\",\n",
        "                \"items\": {\"type\": \"string\"},\n",
        "            },\n",
        "            \"predators\": {\n",
        "                \"description\": \"What are the animals that threaten them?\",\n",
        "                \"type\": \"array\",\n",
        "                \"items\": {\"type\": \"string\"},\n",
        "            },\n",
        "        },\n",
        "        \"required\": [\"about_animals\", \"about_ai\", \"habitat\", \"diet\", \"predators\"],\n",
        "    },\n",
        "}"
      ]
    },
    {
      "cell_type": "markdown",
      "metadata": {
        "id": "bm5ikRkUXEl2"
      },
      "source": [
        "Let's start with an article about **Capybaras**"
      ]
    },
    {
      "cell_type": "code",
      "execution_count": null,
      "metadata": {
        "colab": {
          "base_uri": "https://localhost:8080/",
          "height": 341
        },
        "id": "8JWzR5ZsGP_F",
        "outputId": "9d52cfc5-435f-4f58-fc27-a8e7b96f5aae"
      },
      "outputs": [
        {
          "name": "stderr",
          "output_type": "stream",
          "text": [
            "This is a friendly reminder - the current text generation call will exceed the model's predefined maximum length (2048). Depending on the model, you may observe exceptions, performance degradation, or nothing at all.\n"
          ]
        },
        {
          "data": {
            "text/html": [
              "<div style=\"border: 1px solid #ccc; padding: 10px; border-radius: 5px; background-color: #f9f9f9;\"><p><span style=\"font-family: Cursive; font-size: 30px;\">about_animals:</span>&emsp;<span style=\"background-color:#90EE90; font-family: Cursive; font-size: 20px;\">True</span></p><p><span style=\"font-family: Cursive; font-size: 30px;\">about_ai:</span>&emsp;<span style=\"background-color:#FFCCCB; font-family: Cursive; font-size: 20px;\">False</span></p><p><span style=\"font-family: Cursive; font-size: 30px;\">weight:</span>&emsp;<span style=\"background-color:; font-family: Cursive; font-size: 20px;\">100</span></p><p><span style=\"font-family: Cursive; font-size: 30px;\">habitat:</span>&emsp;<span style=\"background-color:#FFFEE0; font-family: Cursive; font-size: 20px;\">['Panama', 'Colombia', 'Venezuela', 'Guyana', 'Peru', 'Brazil', 'Paraguay', 'Northeast Argentina', 'Uruguay']</span></p><p><span style=\"font-family: Cursive; font-size: 30px;\">diet:</span>&emsp;<span style=\"background-color:#FFFEE0; font-family: Cursive; font-size: 20px;\">['grass', 'aquatic plants', 'grains', 'melons', 'reeds', 'squashes']</span></p><p><span style=\"font-family: Cursive; font-size: 30px;\">predators:</span>&emsp;<span style=\"background-color:#FFFEE0; font-family: Cursive; font-size: 20px;\">['jaguars', 'caimans', 'anacondas', 'ocelots', 'harpy eagles']</span></p></div>"
            ],
            "text/plain": [
              "<IPython.core.display.HTML object>"
            ]
          },
          "metadata": {},
          "output_type": "display_data"
        }
      ],
      "source": [
        "extract(function=function, url=\"https://www.rainforest-alliance.org/species/capybara/\")"
      ]
    },
    {
      "cell_type": "markdown",
      "metadata": {
        "id": "brMOC5q3XjeD"
      },
      "source": [
        "Now let's try with some text about the **Andean cock of the rock**\n",
        "(from https://www.rainforest-alliance.org/species/cock-rock/)"
      ]
    },
    {
      "cell_type": "code",
      "execution_count": null,
      "metadata": {
        "id": "kqlRNy4WXuQl"
      },
      "outputs": [],
      "source": [
        "article=\"\"\"Search for:\\nAbout\\nKnowledge Hub\\nFor Individuals\\nFor Business\\nThe Latest\\nDonate\\nWork With Us\\nSearch for:\\nWhat our seal means\\nWhat We Are Doing\\nOur Impacts\\nOur Approach\\nIssues\\nForests & Biodiversity\\nLivelihoods\\nClimate\\nHuman rights\\nRegions\\nAsia\\nCentral America & Mexico\\nEast Africa\\nSouth America\\nWest & Central Africa\\nWhat You Can Do\\nSupport Our Work\\nEveryday Actions\\nFind the Frog\\nSchool Curricula\\nKids Games & Activities\\nShop to Support\\nFor Business\\nCertification\\nMarketing Sustainability\\nTailored Supply Chain Services\\nFor Partners\\nAbout\\nHelp Center\\nThe Latest\\nEvents\\nWhat We Are Doing\\nOur Impacts\\nSee the positive change our work is making around the\\n\\t\\t\\t\\t\\t\\tworld.\\nLEARN\\n\\t\\t\\t\\t\\t\\t\\tMORE\\nOur Approach\\nIssues\\nForests & Biodiversity\\nLivelihoods\\nClimate\\nHuman\\n\\t\\t\\t\\t\\t\\tRights\\nRegions\\nAsia\\nEast\\n\\t\\t\\t\\t\\t\\tAfrica\\nWest\\n\\t\\t\\t\\t\\t\\t& Central Africa\\nSouth\\n\\t\\t\\t\\t\\t\\tAmerica\\nMexico\\n\\t\\t\\t\\t\\t\\t& Central America\\nWhat You Can Do\\nSupport Our Work\\nThere are many ways you can protect rainforests, fight\\n\\t\\t\\t\\t\\t\\tclimate change, and help people and wildlife\\n\\t\\t\\t\\t\\t\\tthrive.\\nEXPLORE YOUR\\n\\t\\t\\t\\t\\t\\t\\tGIVING OPTIONS\\nEveryday\\n\\t\\t\\t\\t\\t\\tActions\\nFind the Frog\\nSchool\\n\\t\\t\\t\\t\\t\\tCurricula\\nKids’ Games\\n\\t\\t\\t\\t\\t\\t& Activities\\nShop to Support\\nFor Business\\nTransform your\\n\\t\\t\\t\\t\\t\\tbusiness practices\\nWhat Our Seal Means\\nThe Rainforest Alliance certification seal means that the\\n\\t\\t\\t\\t\\t\\tproduct (or a specified ingredient) was produced by\\n\\t\\t\\t\\t\\t\\tfarmers, foresters, and/or companies working together to\\n\\t\\t\\t\\t\\t\\tcreate a world where people and nature thrive in\\n\\t\\t\\t\\t\\t\\tharmony.\\nLEARN\\n\\t\\t\\t\\t\\t\\t\\tMORE\\nDonate\\nSpecies Profile\\nCock-of-the-Rock\\nRupicola peruviana\\nLast updated on November 29, 2006\\nCock-of-the-rock photo by\\xa0Panegyrics of Granovetter\\nPhoto credit: Panegyrics of Granovetter\\nShare this...\\nFacebook\\nTwitter\\nLinkedin\\nEmail\\nAnatomy\\nA beautiful orange crest adorns the head of the cock-of-the-rock and brilliant orange, black and white feathers cover its back and wings. As with most birds, the female coloring is subtler. Their strong claws and legs allow them to grip onto steep cliffs and rocks.\\nDid you know?\\nForests are home to 80 percent of Earth\\'s terrestrial biodiversity! We\\'re preserving habitats for endangered species, conserving wildlife corridors, and saving breeding grounds. Please join our alliance to keep forests standing:\\n\"*\" indicates required fields\\nEmail*\\nGDPR Consent\\nYes, I agree to receive occasional emails from the Rainforest Alliance.\\nHabitat\\nFound in the Andes from Venezuela to Bolivia, the cock-of-the-rock lives only in mountainous regions and builds its nests on the rocky surfaces of cliffs, large boulders and caves.\\nDiet\\nThe cock-of-the–rock’s diet consists mainly of fruit. Often, these colorful birds do not digest the seeds of their fruity meals. Instead the seeds pass through their digestive tracks and are eventually scattered along the ground, making these birds extremely important seed dispersers. In addition to fruit, cocks-of-the-rock eat insects and small vertebrates.\\nThreats\\nMany predators are attracted to the cock-of-the-rock’s beautiful plumage. These include birds of prey such as eagles and hawks, puma and jaguars and even boa constrictors. The loss of habitat, predominantly from forestland being converted to farmland, is a major threat to the survival of this brilliant bird.\\nSources\\nJukofsky, Diane. Encyclopedia of Rainforests. Connecticut: Oryx Press, 2002.\\nEcology Info\\n“Cock of the Rock,” Houston Zoo website, 2007.\\nPhoto by Veronica Muñoz\\nTags:\\nEnvironmental Curriculum for Schools\\nHelp Conserve Forests And Restore Balance To Our Planet\\nMake your gift go further (and greener) with a monthly pledge\\nDonate\\nConservation Status Least Concern\\nType\\nBirds\\nFound In\\nSouth America\\nFact Often, these colorful birds do not digest the seeds of their fruity meals. Instead the seeds pass through their digestive tracks and are eventually scattered along the ground, making these birds extremely important seed dispersers.\\nYou Might Also Like...\\nSpecies Profile\\nCerulean Warbler\\nSpecies Profile\\nAfrican Grey Parrot\\nSpecies Profile\\nScarlet Macaw\\nSpecies Profile\\nGreat Curassow\\nFor Business\\nTransform your business practices\\nFor Supporters\\nHelp us rebalance the planet\\nFor Researchers\\nSee how we measure our impacts\\nFor Educators\\nUse our conservation curricula in your classroom\\nThe Rainforest Alliance is a 501(c)(3) Nonprofit registered in the US under EIN: 13-3377893.\\nIn 2022, 75% of our income supported sustainability programs. Learn More »\\nFollow Us\\nFacebook\\nInstagram\\nLinkedIn\\nTikTok\\nYouTube\\nSubscribe\\nSign up for business updates or general updates\\nFAQ\\nPress\\nFinancials\\nCertification Documents\\nCareers\\nContact Us\\n© Copyright 1987 - 2023, Rainforest Alliance | Privacy Policy | Cookie Policy\\nRainforest Match Active\\nDouble your impact against deforestation.\\nAct now!\\nGive today\\nX\\nHabitats Matter.\\nYour gift helps protect vital forest habitats for wildlife.\\nGive today\\nX\\nPeople & Forests\\nSupport nature’s guardians. Act now.\\nGive Support\\nX\\n\"\"\""
      ]
    },
    {
      "cell_type": "code",
      "execution_count": null,
      "metadata": {
        "colab": {
          "base_uri": "https://localhost:8080/",
          "height": 261
        },
        "id": "5qPN4yB3gwMh",
        "outputId": "694e3b83-bd26-4788-e04f-fc927a2b1e38"
      },
      "outputs": [
        {
          "data": {
            "text/html": [
              "<div style=\"border: 1px solid #ccc; padding: 10px; border-radius: 5px; background-color: #f9f9f9;\"><p><span style=\"font-family: Cursive; font-size: 30px;\">about_animals:</span>&emsp;<span style=\"background-color:#90EE90; font-family: Cursive; font-size: 20px;\">True</span></p><p><span style=\"font-family: Cursive; font-size: 30px;\">about_ai:</span>&emsp;<span style=\"background-color:#FFCCCB; font-family: Cursive; font-size: 20px;\">False</span></p><p><span style=\"font-family: Cursive; font-size: 30px;\">habitat:</span>&emsp;<span style=\"background-color:#FFFEE0; font-family: Cursive; font-size: 20px;\">['South America']</span></p><p><span style=\"font-family: Cursive; font-size: 30px;\">diet:</span>&emsp;<span style=\"background-color:#FFFEE0; font-family: Cursive; font-size: 20px;\">['fruit']</span></p><p><span style=\"font-family: Cursive; font-size: 30px;\">predators:</span>&emsp;<span style=\"background-color:#FFFEE0; font-family: Cursive; font-size: 20px;\">['puma', 'jaguars', 'boa constrictors']</span></p></div>"
            ],
            "text/plain": [
              "<IPython.core.display.HTML object>"
            ]
          },
          "metadata": {},
          "output_type": "display_data"
        }
      ],
      "source": [
        "extract(function=function, text=article)"
      ]
    },
    {
      "cell_type": "markdown",
      "metadata": {
        "id": "_rQhVWTkaSkw"
      },
      "source": [
        "Now, the **Yucatan Deer**!"
      ]
    },
    {
      "cell_type": "code",
      "execution_count": null,
      "metadata": {
        "colab": {
          "base_uri": "https://localhost:8080/",
          "height": 261
        },
        "id": "L3SCmn5IkOFE",
        "outputId": "a95c975f-26b4-4af8-d888-ed9a3b032233"
      },
      "outputs": [
        {
          "data": {
            "text/html": [
              "<div style=\"border: 1px solid #ccc; padding: 10px; border-radius: 5px; background-color: #f9f9f9;\"><p><span style=\"font-family: Cursive; font-size: 30px;\">about_animals:</span>&emsp;<span style=\"background-color:#90EE90; font-family: Cursive; font-size: 20px;\">True</span></p><p><span style=\"font-family: Cursive; font-size: 30px;\">about_ai:</span>&emsp;<span style=\"background-color:#FFCCCB; font-family: Cursive; font-size: 20px;\">False</span></p><p><span style=\"font-family: Cursive; font-size: 30px;\">habitat:</span>&emsp;<span style=\"background-color:#FFFEE0; font-family: Cursive; font-size: 20px;\">['Central America & Mexico', 'South America']</span></p><p><span style=\"font-family: Cursive; font-size: 30px;\">diet:</span>&emsp;<span style=\"background-color:#FFFEE0; font-family: Cursive; font-size: 20px;\">['grass', 'leaves', 'sprouts', 'lichens', 'tree bark', 'fruit']</span></p><p><span style=\"font-family: Cursive; font-size: 30px;\">predators:</span>&emsp;<span style=\"background-color:#FFFEE0; font-family: Cursive; font-size: 20px;\">['cougar', 'jaguar', 'ticks', 'horseflies', 'mosquitoes']</span></p></div>"
            ],
            "text/plain": [
              "<IPython.core.display.HTML object>"
            ]
          },
          "metadata": {},
          "output_type": "display_data"
        }
      ],
      "source": [
        "extract(function=function, url=\"https://www.rainforest-alliance.org/species/yucatan-deer/\")"
      ]
    },
    {
      "cell_type": "markdown",
      "metadata": {
        "id": "zcC95R5dcozT"
      },
      "source": [
        "A completely different example, about AI..."
      ]
    },
    {
      "cell_type": "code",
      "execution_count": null,
      "metadata": {
        "id": "BbK-q_6NcvrT"
      },
      "outputs": [],
      "source": [
        "function = {\n",
        "    \"name\": \"extract_data\",\n",
        "    \"description\": \"Extract data from text\",\n",
        "    \"parameters\": {\n",
        "        \"properties\": {\n",
        "            \"date\": {\"type\": \"string\", \"format\": \"date\"},\n",
        "            \"about_animals\": {\n",
        "                \"description\": \"Is the article about animals?\",\n",
        "                \"type\": \"boolean\",\n",
        "            },\n",
        "            \"about_ai\": {\n",
        "                \"description\": \"Is the article about artificial intelligence?\",\n",
        "                \"type\": \"boolean\",\n",
        "            },\n",
        "            \"people\": {\n",
        "                \"type\": \"array\",\n",
        "                \"description\": \"Please list the mentioned people\",\n",
        "                \"items\": {\"type\": \"string\"},\n",
        "            },\n",
        "            \"summary\": {\n",
        "                \"type\": \"string\",\n",
        "                \"description\": \"Summarize what happened in one sentence.\",\n",
        "            },\n",
        "            \"required\": [\"date\", \"about_animals\", \"about_ai\", \"people\", \"summary\"],\n",
        "        }\n",
        "    },\n",
        "}\n"
      ]
    },
    {
      "cell_type": "code",
      "execution_count": null,
      "metadata": {
        "colab": {
          "base_uri": "https://localhost:8080/",
          "height": 261
        },
        "id": "BU1ehEqtKEui",
        "outputId": "1564b4d3-fb63-4beb-a42f-343c3c34241c"
      },
      "outputs": [
        {
          "data": {
            "text/html": [
              "<div style=\"border: 1px solid #ccc; padding: 10px; border-radius: 5px; background-color: #f9f9f9;\"><p><span style=\"font-family: Cursive; font-size: 30px;\">date:</span>&emsp;<span style=\"background-color:; font-family: Cursive; font-size: 20px;\">2023-11-22</span></p><p><span style=\"font-family: Cursive; font-size: 30px;\">about_animals:</span>&emsp;<span style=\"background-color:#FFCCCB; font-family: Cursive; font-size: 20px;\">False</span></p><p><span style=\"font-family: Cursive; font-size: 30px;\">about_ai:</span>&emsp;<span style=\"background-color:#90EE90; font-family: Cursive; font-size: 20px;\">True</span></p><p><span style=\"font-family: Cursive; font-size: 30px;\">people:</span>&emsp;<span style=\"background-color:#FFFEE0; font-family: Cursive; font-size: 20px;\">['Sam Altman', 'Greg Brockman', 'Ilya Sutskever']</span></p><p><span style=\"font-family: Cursive; font-size: 30px;\">summary:</span>&emsp;<span style=\"background-color:; font-family: Cursive; font-size: 20px;\">Sam Altman returns as CEO of OpenAI</span></p></div>"
            ],
            "text/plain": [
              "<IPython.core.display.HTML object>"
            ]
          },
          "metadata": {},
          "output_type": "display_data"
        }
      ],
      "source": [
        "extract(function=function, url=\"https://www.theverge.com/2023/11/22/23967223/sam-altman-returns-ceo-open-ai\")"
      ]
    },
    {
      "cell_type": "markdown",
      "metadata": {
        "id": "mG-W-d9Le-sp"
      },
      "source": [
        "## ⚠️ Caveats and 🔮 future directions\n",
        "- I found the model a bit unstable. Changing the function definition slightly can alter the extraction results and even lead to unparsable function calls.\n",
        "- It would be nice to try other similar models, such as [NexusRaven](https://huggingface.co/Nexusflow/NexusRaven-V2-13B)\n",
        "- Good open source generic models (not fine-tuned for function calling) should also be investigated ([Anyscale announcement on function calling using Mistral-7B-Instruct-v0.1](https://www.anyscale.com/blog/anyscale-endpoints-json-mode-and-function-calling-features))"
      ]
    },
    {
      "cell_type": "markdown",
      "metadata": {},
      "source": [
        "## 📚 References\n",
        "*Related to the experiment*\n",
        "- [Haystack LLM framework](https://haystack.deepset.ai/)\n",
        "- [Using OpenAI Function Calling for Information Extraction: gist by Kyle McDonald](https://gist.github.com/kylemcdonald/dbac21de2d7855633689f5526225154c)\n",
        "- Gorilla OpenFunctions: [release post](https://gorilla.cs.berkeley.edu/blogs/4_open_functions.html) and [GitHub repository](https://github.com/ShishirPatil/gorilla/tree/main/openfunctions)\n",
        "\n",
        "*Other interesting resources on the topic*\n",
        "- [Instructor project: structured extraction in Python, powered by OpenAI's function calling api](https://jxnl.github.io/instructor/)\n",
        "- [NexusRaven-V2: Surpassing GPT-4 for Zero-shot Function Calling](https://nexusflow.ai/blogs/ravenv2)"
      ]
    }
  ],
  "metadata": {
    "accelerator": "GPU",
    "colab": {
      "gpuType": "T4",
      "provenance": []
    },
    "kernelspec": {
      "display_name": "Python 3",
      "name": "python3"
    },
    "language_info": {
      "name": "python"
    },
    "widgets": {
      "application/vnd.jupyter.widget-state+json": {
        "00ac0ccbad934b2589ed3cc1f9ffc976": {
          "model_module": "@jupyter-widgets/controls",
          "model_module_version": "1.5.0",
          "model_name": "ProgressStyleModel",
          "state": {
            "_model_module": "@jupyter-widgets/controls",
            "_model_module_version": "1.5.0",
            "_model_name": "ProgressStyleModel",
            "_view_count": null,
            "_view_module": "@jupyter-widgets/base",
            "_view_module_version": "1.2.0",
            "_view_name": "StyleView",
            "bar_color": null,
            "description_width": ""
          }
        },
        "455dc9910a3947d089b88acd80539727": {
          "model_module": "@jupyter-widgets/controls",
          "model_module_version": "1.5.0",
          "model_name": "DescriptionStyleModel",
          "state": {
            "_model_module": "@jupyter-widgets/controls",
            "_model_module_version": "1.5.0",
            "_model_name": "DescriptionStyleModel",
            "_view_count": null,
            "_view_module": "@jupyter-widgets/base",
            "_view_module_version": "1.2.0",
            "_view_name": "StyleView",
            "description_width": ""
          }
        },
        "4ffa82cec76c4fbebd13f0cd18e9669d": {
          "model_module": "@jupyter-widgets/base",
          "model_module_version": "1.2.0",
          "model_name": "LayoutModel",
          "state": {
            "_model_module": "@jupyter-widgets/base",
            "_model_module_version": "1.2.0",
            "_model_name": "LayoutModel",
            "_view_count": null,
            "_view_module": "@jupyter-widgets/base",
            "_view_module_version": "1.2.0",
            "_view_name": "LayoutView",
            "align_content": null,
            "align_items": null,
            "align_self": null,
            "border": null,
            "bottom": null,
            "display": null,
            "flex": null,
            "flex_flow": null,
            "grid_area": null,
            "grid_auto_columns": null,
            "grid_auto_flow": null,
            "grid_auto_rows": null,
            "grid_column": null,
            "grid_gap": null,
            "grid_row": null,
            "grid_template_areas": null,
            "grid_template_columns": null,
            "grid_template_rows": null,
            "height": null,
            "justify_content": null,
            "justify_items": null,
            "left": null,
            "margin": null,
            "max_height": null,
            "max_width": null,
            "min_height": null,
            "min_width": null,
            "object_fit": null,
            "object_position": null,
            "order": null,
            "overflow": null,
            "overflow_x": null,
            "overflow_y": null,
            "padding": null,
            "right": null,
            "top": null,
            "visibility": null,
            "width": null
          }
        },
        "5ac7b29812ca459281ff7970334f8c98": {
          "model_module": "@jupyter-widgets/controls",
          "model_module_version": "1.5.0",
          "model_name": "HTMLModel",
          "state": {
            "_dom_classes": [],
            "_model_module": "@jupyter-widgets/controls",
            "_model_module_version": "1.5.0",
            "_model_name": "HTMLModel",
            "_view_count": null,
            "_view_module": "@jupyter-widgets/controls",
            "_view_module_version": "1.5.0",
            "_view_name": "HTMLView",
            "description": "",
            "description_tooltip": null,
            "layout": "IPY_MODEL_c6068da42c4a42f0bfab76d3944f9980",
            "placeholder": "​",
            "style": "IPY_MODEL_455dc9910a3947d089b88acd80539727",
            "value": " 7/7 [01:07&lt;00:00,  9.23s/it]"
          }
        },
        "716bf646f0c44a34ab568c3f1d795764": {
          "model_module": "@jupyter-widgets/controls",
          "model_module_version": "1.5.0",
          "model_name": "DescriptionStyleModel",
          "state": {
            "_model_module": "@jupyter-widgets/controls",
            "_model_module_version": "1.5.0",
            "_model_name": "DescriptionStyleModel",
            "_view_count": null,
            "_view_module": "@jupyter-widgets/base",
            "_view_module_version": "1.2.0",
            "_view_name": "StyleView",
            "description_width": ""
          }
        },
        "72932512578446e2ba5e1fa1484c2122": {
          "model_module": "@jupyter-widgets/base",
          "model_module_version": "1.2.0",
          "model_name": "LayoutModel",
          "state": {
            "_model_module": "@jupyter-widgets/base",
            "_model_module_version": "1.2.0",
            "_model_name": "LayoutModel",
            "_view_count": null,
            "_view_module": "@jupyter-widgets/base",
            "_view_module_version": "1.2.0",
            "_view_name": "LayoutView",
            "align_content": null,
            "align_items": null,
            "align_self": null,
            "border": null,
            "bottom": null,
            "display": null,
            "flex": null,
            "flex_flow": null,
            "grid_area": null,
            "grid_auto_columns": null,
            "grid_auto_flow": null,
            "grid_auto_rows": null,
            "grid_column": null,
            "grid_gap": null,
            "grid_row": null,
            "grid_template_areas": null,
            "grid_template_columns": null,
            "grid_template_rows": null,
            "height": null,
            "justify_content": null,
            "justify_items": null,
            "left": null,
            "margin": null,
            "max_height": null,
            "max_width": null,
            "min_height": null,
            "min_width": null,
            "object_fit": null,
            "object_position": null,
            "order": null,
            "overflow": null,
            "overflow_x": null,
            "overflow_y": null,
            "padding": null,
            "right": null,
            "top": null,
            "visibility": null,
            "width": null
          }
        },
        "865149cdf9f64f308481884092049356": {
          "model_module": "@jupyter-widgets/controls",
          "model_module_version": "1.5.0",
          "model_name": "HTMLModel",
          "state": {
            "_dom_classes": [],
            "_model_module": "@jupyter-widgets/controls",
            "_model_module_version": "1.5.0",
            "_model_name": "HTMLModel",
            "_view_count": null,
            "_view_module": "@jupyter-widgets/controls",
            "_view_module_version": "1.5.0",
            "_view_name": "HTMLView",
            "description": "",
            "description_tooltip": null,
            "layout": "IPY_MODEL_72932512578446e2ba5e1fa1484c2122",
            "placeholder": "​",
            "style": "IPY_MODEL_716bf646f0c44a34ab568c3f1d795764",
            "value": "Loading checkpoint shards: 100%"
          }
        },
        "9219aad138f241f9854c3aa32825fc6e": {
          "model_module": "@jupyter-widgets/controls",
          "model_module_version": "1.5.0",
          "model_name": "FloatProgressModel",
          "state": {
            "_dom_classes": [],
            "_model_module": "@jupyter-widgets/controls",
            "_model_module_version": "1.5.0",
            "_model_name": "FloatProgressModel",
            "_view_count": null,
            "_view_module": "@jupyter-widgets/controls",
            "_view_module_version": "1.5.0",
            "_view_name": "ProgressView",
            "bar_style": "success",
            "description": "",
            "description_tooltip": null,
            "layout": "IPY_MODEL_4ffa82cec76c4fbebd13f0cd18e9669d",
            "max": 7,
            "min": 0,
            "orientation": "horizontal",
            "style": "IPY_MODEL_00ac0ccbad934b2589ed3cc1f9ffc976",
            "value": 7
          }
        },
        "c6068da42c4a42f0bfab76d3944f9980": {
          "model_module": "@jupyter-widgets/base",
          "model_module_version": "1.2.0",
          "model_name": "LayoutModel",
          "state": {
            "_model_module": "@jupyter-widgets/base",
            "_model_module_version": "1.2.0",
            "_model_name": "LayoutModel",
            "_view_count": null,
            "_view_module": "@jupyter-widgets/base",
            "_view_module_version": "1.2.0",
            "_view_name": "LayoutView",
            "align_content": null,
            "align_items": null,
            "align_self": null,
            "border": null,
            "bottom": null,
            "display": null,
            "flex": null,
            "flex_flow": null,
            "grid_area": null,
            "grid_auto_columns": null,
            "grid_auto_flow": null,
            "grid_auto_rows": null,
            "grid_column": null,
            "grid_gap": null,
            "grid_row": null,
            "grid_template_areas": null,
            "grid_template_columns": null,
            "grid_template_rows": null,
            "height": null,
            "justify_content": null,
            "justify_items": null,
            "left": null,
            "margin": null,
            "max_height": null,
            "max_width": null,
            "min_height": null,
            "min_width": null,
            "object_fit": null,
            "object_position": null,
            "order": null,
            "overflow": null,
            "overflow_x": null,
            "overflow_y": null,
            "padding": null,
            "right": null,
            "top": null,
            "visibility": null,
            "width": null
          }
        },
        "e5579df0e65e4fbc9e5fbe26bcbafb4d": {
          "model_module": "@jupyter-widgets/base",
          "model_module_version": "1.2.0",
          "model_name": "LayoutModel",
          "state": {
            "_model_module": "@jupyter-widgets/base",
            "_model_module_version": "1.2.0",
            "_model_name": "LayoutModel",
            "_view_count": null,
            "_view_module": "@jupyter-widgets/base",
            "_view_module_version": "1.2.0",
            "_view_name": "LayoutView",
            "align_content": null,
            "align_items": null,
            "align_self": null,
            "border": null,
            "bottom": null,
            "display": null,
            "flex": null,
            "flex_flow": null,
            "grid_area": null,
            "grid_auto_columns": null,
            "grid_auto_flow": null,
            "grid_auto_rows": null,
            "grid_column": null,
            "grid_gap": null,
            "grid_row": null,
            "grid_template_areas": null,
            "grid_template_columns": null,
            "grid_template_rows": null,
            "height": null,
            "justify_content": null,
            "justify_items": null,
            "left": null,
            "margin": null,
            "max_height": null,
            "max_width": null,
            "min_height": null,
            "min_width": null,
            "object_fit": null,
            "object_position": null,
            "order": null,
            "overflow": null,
            "overflow_x": null,
            "overflow_y": null,
            "padding": null,
            "right": null,
            "top": null,
            "visibility": null,
            "width": null
          }
        },
        "f9199a6a93bd476399bb10f0c5998ff5": {
          "model_module": "@jupyter-widgets/controls",
          "model_module_version": "1.5.0",
          "model_name": "HBoxModel",
          "state": {
            "_dom_classes": [],
            "_model_module": "@jupyter-widgets/controls",
            "_model_module_version": "1.5.0",
            "_model_name": "HBoxModel",
            "_view_count": null,
            "_view_module": "@jupyter-widgets/controls",
            "_view_module_version": "1.5.0",
            "_view_name": "HBoxView",
            "box_style": "",
            "children": [
              "IPY_MODEL_865149cdf9f64f308481884092049356",
              "IPY_MODEL_9219aad138f241f9854c3aa32825fc6e",
              "IPY_MODEL_5ac7b29812ca459281ff7970334f8c98"
            ],
            "layout": "IPY_MODEL_e5579df0e65e4fbc9e5fbe26bcbafb4d"
          }
        }
      }
    }
  },
  "nbformat": 4,
  "nbformat_minor": 0
}
